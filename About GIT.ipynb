{
  "nbformat": 4,
  "nbformat_minor": 0,
  "metadata": {
    "colab": {
      "name": "About GIT.ipynb",
      "provenance": [],
      "collapsed_sections": [],
      "authorship_tag": "ABX9TyOaZuRDVWoGc1tWc7u8QKnf",
      "include_colab_link": true
    },
    "kernelspec": {
      "name": "python3",
      "display_name": "Python 3"
    },
    "language_info": {
      "name": "python"
    }
  },
  "cells": [
    {
      "cell_type": "markdown",
      "metadata": {
        "id": "view-in-github",
        "colab_type": "text"
      },
      "source": [
        "<a href=\"https://colab.research.google.com/github/soujanya-vattikolla/REST-APIs-with-FlaskandPython/blob/main/About%20GIT.ipynb\" target=\"_parent\"><img src=\"https://colab.research.google.com/assets/colab-badge.svg\" alt=\"Open In Colab\"/></a>"
      ]
    },
    {
      "cell_type": "markdown",
      "source": [
        "**What is a Git Repository**<br>\n"
      ],
      "metadata": {
        "id": "GBjq_DVizjz1"
      }
    },
    {
      "cell_type": "markdown",
      "source": [
        "* Git is a set of layers. <br>\n",
        "\n",
        "*   Each layer has a function and you use Git to move files between those layers.\n",
        "*   Layers provide error control, redundancy and more..\n",
        "*  The layers are physical (inside a hidden .git folder)\n",
        "\n",
        "\n",
        "\n",
        "\n",
        "\n",
        "  The layers in GIT: <br>\n",
        "*   Files in the system (Any file that is created is in this layer)\n",
        "*   Initialise GIT (install GIT)\n",
        "*   Add files to next commit (Staging area)\n",
        "*   Commit the files to local repository\n",
        "*   Send the files to GIT service(e.g..GITHUB)\n",
        "\n",
        "\n",
        "\n"
      ],
      "metadata": {
        "id": "G7PTYfJs1PvD"
      }
    },
    {
      "cell_type": "markdown",
      "source": [
        "**GIT commands**\n",
        "\n",
        "* git init              (To initialize a GIT repo)\n",
        "* git add filename_here (To add a file to the staging area)\n",
        "* git add .             (To add all files in the staging area)\n",
        "* git status            (To check repo status)\n",
        "* git commit            (To commit the changes in the editor in GIT)\n",
        "* git commit -m \"commit message\" (To commit the changes with a message in the editor in GIT)"
      ],
      "metadata": {
        "id": "uzh7QoZ34UJ2"
      }
    }
  ]
}