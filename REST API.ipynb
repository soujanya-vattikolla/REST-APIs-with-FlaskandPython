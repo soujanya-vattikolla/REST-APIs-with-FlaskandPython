{
  "nbformat": 4,
  "nbformat_minor": 0,
  "metadata": {
    "colab": {
      "name": "REST API.ipynb",
      "provenance": [],
      "collapsed_sections": [],
      "authorship_tag": "ABX9TyMTv2/IjW5SCrC3IfXxLBIk",
      "include_colab_link": true
    },
    "kernelspec": {
      "name": "python3",
      "display_name": "Python 3"
    },
    "language_info": {
      "name": "python"
    }
  },
  "cells": [
    {
      "cell_type": "markdown",
      "metadata": {
        "id": "view-in-github",
        "colab_type": "text"
      },
      "source": [
        "<a href=\"https://colab.research.google.com/github/soujanya-vattikolla/REST-APIs-with-FlaskandPython/blob/main/REST%20API.ipynb\" target=\"_parent\"><img src=\"https://colab.research.google.com/assets/colab-badge.svg\" alt=\"Open In Colab\"/></a>"
      ]
    },
    {
      "cell_type": "markdown",
      "source": [
        "**API**<br>\n",
        "Application Programming Interface"
      ],
      "metadata": {
        "id": "rTfvZsad_YFw"
      }
    },
    {
      "cell_type": "markdown",
      "source": [
        "Ex:Twitter Search:Twitter search accepts data (the search parameters), processes it (finds the tweets that match those parameters), and sends data back (the tweets themselves)."
      ],
      "metadata": {
        "id": "eH7II9oRCBkD"
      }
    },
    {
      "cell_type": "markdown",
      "source": [
        "**Flask**<br>\n",
        "Flask is an web application framework, that allows to develop web applications easily."
      ],
      "metadata": {
        "id": "ffflEeWCCehZ"
      }
    },
    {
      "cell_type": "markdown",
      "source": [
        "**HTTP Verbs**\n",
        "\n",
        "\n",
        "1.   GET : Retrieve something(used to send data)\n",
        "2.   POST: Receive data and use it\n",
        "3.   PUT : Update an existing data\n",
        "4.   DELETE : Remove something\n",
        "\n",
        "\n",
        "\n",
        "\n",
        "\n"
      ],
      "metadata": {
        "id": "O4EMSQTSEatZ"
      }
    },
    {
      "cell_type": "markdown",
      "source": [
        "**REST API**<br>\n",
        "A RESTful API is an application program interface that uses HTTP requests to GET,PUT,POST and DELETE data.\n"
      ],
      "metadata": {
        "id": "vMBG6te2KYFR"
      }
    },
    {
      "cell_type": "markdown",
      "source": [
        "**POSTMAN**<br>\n",
        "It is very useful tool for testing API's."
      ],
      "metadata": {
        "id": "6INI1BtgN6ut"
      }
    }
  ]
}